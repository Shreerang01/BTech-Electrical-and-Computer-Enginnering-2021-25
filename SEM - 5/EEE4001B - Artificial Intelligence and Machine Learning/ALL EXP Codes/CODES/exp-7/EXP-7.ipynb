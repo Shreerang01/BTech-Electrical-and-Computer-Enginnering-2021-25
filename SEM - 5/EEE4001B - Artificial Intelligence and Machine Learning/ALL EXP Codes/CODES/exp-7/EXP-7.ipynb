{
 "cells": [
  {
   "cell_type": "code",
   "execution_count": 1,
   "id": "fca87b86",
   "metadata": {},
   "outputs": [],
   "source": [
    "import random"
   ]
  },
  {
   "cell_type": "code",
   "execution_count": 2,
   "id": "4d7d0e41",
   "metadata": {},
   "outputs": [],
   "source": [
    "\n",
    "def fitness_function(individual):\n",
    "    return sum(individual)\n",
    "\n",
    "def generate_individual():\n",
    "    return [random.randint(0, 100) for _ in range(10)]\n",
    "\n",
    "def mutate(individual):\n",
    "    index_to_mutate = random.randint(0, len(individual) - 1)\n",
    "    individual[index_to_mutate] = random.randint(0, 100)\n",
    "    return individual\n",
    "\n",
    "def crossover(parent1, parent2):\n",
    "    midpoint = len(parent1) // 2\n",
    "    child1 = parent1[:midpoint] + parent2[midpoint:]\n",
    "    child2 = parent2[:midpoint] + parent1[midpoint:]\n",
    "\n",
    "    return child1, child2\n",
    "\n",
    "def select_parents(population):\n",
    "    fitness_values = [fitness_function(ind) for ind in population]\n",
    "    total_fitness = sum(fitness_values)\n",
    "    probabilities = [fit / total_fitness for fit in fitness_values]\n",
    "    parents = []\n",
    "    for _ in range(2):\n",
    "        selected_parents = random.choices(population, probabilities, k=2)\n",
    "        parents.append(max(selected_parents, key=fitness_function))\n",
    "    return parents\n",
    "\n",
    "def genetic_algorithm():\n",
    "    population_size = 100\n",
    "    population = [generate_individual() for _ in range(population_size)]\n",
    "\n",
    "    for generation in range(100):\n",
    "        parents = select_parents(population)\n",
    "        offspring = []\n",
    "\n",
    "        for i in range(population_size // 2):\n",
    "            parent1, parent2 = parents\n",
    "            child1, child2 = crossover(parent1, parent2)\n",
    "            offspring.append(mutate(child1))\n",
    "            offspring.append(mutate(child2))\n",
    "\n",
    "        population = parents + offspring\n",
    "        population.sort(key=fitness_function, reverse=True)\n",
    "        population = population[:population_size]\n",
    "\n",
    "    return population[0]\n"
   ]
  },
  {
   "cell_type": "code",
   "execution_count": 3,
   "id": "a4ef3778",
   "metadata": {},
   "outputs": [
    {
     "name": "stdout",
     "output_type": "stream",
     "text": [
      "Best Individual: [99, 95, 90, 78, 93, 85, 89, 86, 84, 71]\n",
      "Fitness Value: 870\n"
     ]
    }
   ],
   "source": [
    "best_individual = genetic_algorithm()\n",
    "print(\"Best Individual:\", best_individual)\n",
    "print(\"Fitness Value:\", fitness_function(best_individual))"
   ]
  },
  {
   "cell_type": "code",
   "execution_count": null,
   "id": "e9fa09fd",
   "metadata": {},
   "outputs": [],
   "source": []
  }
 ],
 "metadata": {
  "kernelspec": {
   "display_name": "Python 3 (ipykernel)",
   "language": "python",
   "name": "python3"
  },
  "language_info": {
   "codemirror_mode": {
    "name": "ipython",
    "version": 3
   },
   "file_extension": ".py",
   "mimetype": "text/x-python",
   "name": "python",
   "nbconvert_exporter": "python",
   "pygments_lexer": "ipython3",
   "version": "3.9.13"
  }
 },
 "nbformat": 4,
 "nbformat_minor": 5
}
