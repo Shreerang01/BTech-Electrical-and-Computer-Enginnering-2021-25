{
 "cells": [
  {
   "cell_type": "code",
   "execution_count": 27,
   "id": "4d40dce8",
   "metadata": {},
   "outputs": [],
   "source": [
    "import random\n",
    "class Environment(object):\n",
    "    def __init__(self): \n",
    "        self.locationcondition={'A' : '1' , 'B' :'1'}\n",
    "        self.locationcondition['A']=random.randint(0,1) \n",
    "        self.locationcondition['B']=random.randint(0,1)"
   ]
  },
  {
   "cell_type": "code",
   "execution_count": 28,
   "id": "300ad40d",
   "metadata": {},
   "outputs": [],
   "source": [
    "class Sreflexagent(Environment):\n",
    "    def __init__(self,Environment):\n",
    "        #place vacuum at random location\n",
    "        print(Environment.locationcondition) \n",
    "        vacuumlocation=random.randint(0,1)\n",
    "        \n",
    "        if vacuumlocation==0:\n",
    "            print(\"vacuum is randomly placed at locationn A\") \n",
    "            #and if location A is dirty\n",
    "            if Environment.locationcondition['A']==1: \n",
    "                print(\"Location A is dirty\")\n",
    "                #suck the dirt and mark it clean\n",
    "                Environment.locationcondition['A']=0 \n",
    "                print(\"Location A has been cleaned\") \n",
    "                vacuumlocation=1\n",
    "                \n",
    "        else:\n",
    "            print(\"Location A is clean\") #move to B\n",
    "            print(\"moving to location B\") \n",
    "            vacuumlocation=1\n",
    "            if Environment.locationcondition['B']==1:\n",
    "                #suck the dirt and mark it clean \n",
    "                Environment.locationcondition['B']=0 \n",
    "                print(\"Location B has been cleaned\")\n",
    "            \n",
    "            elif vacuumlocation==1:\n",
    "                print(\"vacuum is randomly placed at locationn B\")\n",
    "                #and if location B is dirty\n",
    "            else:\n",
    "                print(\"Location B is clean\") \n",
    "                #and if location B is dirty\n",
    "                \n",
    "                \n",
    "            if Environment.locationcondition['B']==1: \n",
    "                print(\"Location B is dirty\")\n",
    "                #suck the dirt and mark it clean Environment.\n",
    "                Environment.locationcondition['B']=0; \n",
    "                print(\"Location B has been cleaned\")\n",
    "                print(\"moving to location A\")\n",
    "                vacuumlocation=0\n",
    "            else:\n",
    "                print(\"Location B is Clean\") \n",
    "                #Move to A\n",
    "                print(\"moving to location A\") \n",
    "                vacuumlocation=0\n",
    "                \n",
    "                \n",
    "            if vacuumlocation==0:\n",
    "                if Environment.locationcondition['A']==1: \n",
    "                    print(\"Location A is dirty\")\n",
    "                    #suck the dirt and mark it clean \n",
    "                    Environment.locationcondition['A']=0; \n",
    "                    print(\"Location A has been cleaned\")\n",
    "            else:\n",
    "                print(\"Location A is Clean\")\n",
    "        \n",
    "                "
   ]
  },
  {
   "cell_type": "code",
   "execution_count": 29,
   "id": "0186f428",
   "metadata": {},
   "outputs": [],
   "source": [
    "obj= Environment()"
   ]
  },
  {
   "cell_type": "code",
   "execution_count": 30,
   "id": "ad1c37be",
   "metadata": {},
   "outputs": [
    {
     "name": "stdout",
     "output_type": "stream",
     "text": [
      "{'A': 1, 'B': 1}\n",
      "Location A is clean\n",
      "moving to location B\n",
      "Location B has been cleaned\n",
      "Location B is Clean\n",
      "moving to location A\n",
      "Location A is dirty\n",
      "Location A has been cleaned\n"
     ]
    }
   ],
   "source": [
    "agent=Sreflexagent(obj)"
   ]
  },
  {
   "cell_type": "code",
   "execution_count": 34,
   "id": "af43f825",
   "metadata": {},
   "outputs": [
    {
     "name": "stdout",
     "output_type": "stream",
     "text": [
      "{'A': 0, 'B': 0}\n",
      "Location A is clean\n",
      "moving to location B\n",
      "vacuum is randomly placed at locationn B\n",
      "Location B is Clean\n",
      "moving to location A\n"
     ]
    }
   ],
   "source": [
    "agent=Sreflexagent(obj)"
   ]
  },
  {
   "cell_type": "code",
   "execution_count": 43,
   "id": "b0f1948f",
   "metadata": {},
   "outputs": [
    {
     "name": "stdout",
     "output_type": "stream",
     "text": [
      "{'A': 0, 'B': 0}\n",
      "Location A is clean\n",
      "moving to location B\n",
      "vacuum is randomly placed at locationn B\n",
      "Location B is Clean\n",
      "moving to location A\n"
     ]
    }
   ],
   "source": [
    "agent=Sreflexagent(obj)"
   ]
  },
  {
   "cell_type": "code",
   "execution_count": null,
   "id": "b915c4ec",
   "metadata": {},
   "outputs": [],
   "source": [
    "    "
   ]
  }
 ],
 "metadata": {
  "kernelspec": {
   "display_name": "Python 3 (ipykernel)",
   "language": "python",
   "name": "python3"
  },
  "language_info": {
   "codemirror_mode": {
    "name": "ipython",
    "version": 3
   },
   "file_extension": ".py",
   "mimetype": "text/x-python",
   "name": "python",
   "nbconvert_exporter": "python",
   "pygments_lexer": "ipython3",
   "version": "3.9.13"
  }
 },
 "nbformat": 4,
 "nbformat_minor": 5
}
