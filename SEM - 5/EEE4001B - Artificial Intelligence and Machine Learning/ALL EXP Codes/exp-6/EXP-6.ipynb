{
 "cells": [
  {
   "cell_type": "code",
   "execution_count": 1,
   "id": "f6d869dd",
   "metadata": {},
   "outputs": [],
   "source": [
    "import numpy as np"
   ]
  },
  {
   "cell_type": "code",
   "execution_count": 2,
   "id": "5f80e035",
   "metadata": {},
   "outputs": [
    {
     "name": "stdout",
     "output_type": "stream",
     "text": [
      "[[0.66666667 1.        ]\n",
      " [0.33333333 0.55555556]\n",
      " [1.         0.66666667]]\n",
      "[[0.92]\n",
      " [0.86]\n",
      " [0.89]]\n"
     ]
    }
   ],
   "source": [
    "# Data Preparation\n",
    "x = np.array(([2, 9], [1, 5], [3, 6]), dtype=float)\n",
    "y = np.array(([92], [86], [89]), dtype=float)\n",
    "\n",
    "# Scale Units\n",
    "x = x / np.amax(x, axis=0)\n",
    "# Maximum test score = 100\n",
    "y = y / 100\n",
    "\n",
    "print(x)\n",
    "print(y)\n"
   ]
  },
  {
   "cell_type": "code",
   "execution_count": 3,
   "id": "052a72b5",
   "metadata": {},
   "outputs": [],
   "source": [
    "# neural Network Class\n",
    "class NeuralNetwork(object):\n",
    "    def __init__(self):  # Fix the double underscores here\n",
    "        # Parameters\n",
    "        self.inputSize = 2\n",
    "        self.outputSize = 1\n",
    "        self.hiddenSize = 3\n",
    "        # Weights\n",
    "        self.W1 = np.random.randn(self.inputSize, self.hiddenSize)\n",
    "        self.W2 = np.random.randn(self.hiddenSize, self.outputSize)\n",
    "\n",
    "    def feedForward(self, X):\n",
    "        self.z = np.dot(X, self.W1)\n",
    "        self.z2 = self.sigmoid(self.z)\n",
    "\n",
    "        self.z3 = np.dot(self.z2, self.W2)\n",
    "        output = self.sigmoid(self.z3)\n",
    "        return output\n",
    "\n",
    "    def sigmoid(self, s, deriv=False):\n",
    "        if deriv:\n",
    "            return s * (1 - s)\n",
    "        return 1 / (1 + np.exp(-s))\n",
    "\n",
    "    def backward(self, X, y, output):\n",
    "        self.output_error = y - output\n",
    "        self.output_delta = self.output_error * self.sigmoid(output, deriv=True)\n",
    "        self.z2_error = self.output_delta.dot(self.W2.T)\n",
    "        self.z2_delta = self.z2_error * self.sigmoid(self.z2, deriv=True)\n",
    "\n",
    "        # Update weights\n",
    "        self.W2 += self.z2.T.dot(self.output_delta)\n",
    "        self.W1 += X.T.dot(self.z2_delta)\n",
    "\n",
    "    def train(self, X, y):\n",
    "        output = self.feedForward(X)  # Fix the typo here\n",
    "        self.backward(X, y, output)\n"
   ]
  },
  {
   "cell_type": "code",
   "execution_count": 4,
   "id": "1b4c70da",
   "metadata": {},
   "outputs": [
    {
     "name": "stdout",
     "output_type": "stream",
     "text": [
      "Loss0.009427909372579202\n",
      "Loss0.00032641693771951564\n",
      "Loss0.0003092308629834024\n",
      "Loss0.0002943760495109972\n",
      "Loss0.0002811046828458141\n",
      "Loss0.0002692002597072434\n",
      "Loss0.00025848083129097134\n",
      "Loss0.00024879284402172346\n",
      "Loss0.00024000617003689113\n",
      "Loss0.0002320100865636173\n"
     ]
    }
   ],
   "source": [
    "NN = NeuralNetwork()\n",
    "for i in range(1000):  # trains the NN 1000 times\n",
    "    if i % 100 == 0:\n",
    "        print(\"Loss\" + str(np.mean(np.square(y - NN.feedForward(x)))))  # Fix the typo here\n",
    "    NN.train(x, y)\n"
   ]
  },
  {
   "cell_type": "code",
   "execution_count": 5,
   "id": "082da150",
   "metadata": {},
   "outputs": [
    {
     "name": "stdout",
     "output_type": "stream",
     "text": [
      "Input: [[0.66666667 1.        ]\n",
      " [0.33333333 0.55555556]\n",
      " [1.         0.66666667]]\n",
      "Actual Output: [[0.92]\n",
      " [0.86]\n",
      " [0.89]]\n",
      "Loss: 0.00022471001116432777\n",
      "\n",
      "\n",
      "Predicted Output: [[0.90061403]\n",
      " [0.87712199]\n",
      " [0.89226969]]\n"
     ]
    }
   ],
   "source": [
    "## Final RESULT\n",
    "print(\"Input: \" + str(x))\n",
    "print(\"Actual Output: \" + str(y))\n",
    "print(\"Loss: \" + str(np.mean(np.square(y - NN.feedForward(x)))))\n",
    "print(\"\\n\")\n",
    "print(\"Predicted Output: \" + str(NN.feedForward(x)))"
   ]
  },
  {
   "cell_type": "code",
   "execution_count": null,
   "id": "9dd02b09",
   "metadata": {},
   "outputs": [],
   "source": []
  }
 ],
 "metadata": {
  "kernelspec": {
   "display_name": "Python 3 (ipykernel)",
   "language": "python",
   "name": "python3"
  },
  "language_info": {
   "codemirror_mode": {
    "name": "ipython",
    "version": 3
   },
   "file_extension": ".py",
   "mimetype": "text/x-python",
   "name": "python",
   "nbconvert_exporter": "python",
   "pygments_lexer": "ipython3",
   "version": "3.9.13"
  }
 },
 "nbformat": 4,
 "nbformat_minor": 5
}
